{
 "cells": [
  {
   "cell_type": "code",
   "execution_count": 1,
   "id": "86ea4b81-c8e9-4978-a379-7989c0d7eb4f",
   "metadata": {},
   "outputs": [],
   "source": [
    "# Import libraries\n",
    "import numpy as np\n",
    "import matplotlib.pyplot as plt\n",
    "from physics import definitions as phys"
   ]
  },
  {
   "cell_type": "markdown",
   "id": "a75faf0d-eed2-40ee-9cfc-4d68e63ba0fa",
   "metadata": {},
   "source": [
    "# Vectorized Piecewise Functions"
   ]
  },
  {
   "cell_type": "code",
   "execution_count": 46,
   "id": "da2e073c-fede-4d75-a7c6-5eb4b1c87bd0",
   "metadata": {},
   "outputs": [],
   "source": [
    "# Define a piecewise function\n",
    "\n",
    "def piece_func(x,y):\n",
    "\n",
    "    if (x<10) & (y<10):\n",
    "        return x+y\n",
    "    elif (10<=x<=50) & (10<=y<=20):\n",
    "        return x - y\n",
    "    else:\n",
    "        return 0\n"
   ]
  },
  {
   "cell_type": "code",
   "execution_count": 47,
   "id": "91bff2fd-f89a-44c6-b7a8-7987f9faa89b",
   "metadata": {},
   "outputs": [
    {
     "data": {
      "text/plain": [
       "5"
      ]
     },
     "execution_count": 47,
     "metadata": {},
     "output_type": "execute_result"
    }
   ],
   "source": [
    "piece_func(20,15)"
   ]
  },
  {
   "cell_type": "code",
   "execution_count": 48,
   "id": "9b0e57e1-6f36-4fde-be89-568487ddc4a6",
   "metadata": {},
   "outputs": [],
   "source": [
    "# Try a np.array input\n",
    "\n",
    "x_list=np.arange(0,80,5)"
   ]
  },
  {
   "cell_type": "code",
   "execution_count": 49,
   "id": "efdc5974-7439-40ef-9394-37484904ba43",
   "metadata": {},
   "outputs": [
    {
     "data": {
      "text/plain": [
       "array([ 0,  5, 10, 15, 20, 25, 30, 35, 40, 45, 50, 55, 60, 65, 70, 75])"
      ]
     },
     "execution_count": 49,
     "metadata": {},
     "output_type": "execute_result"
    }
   ],
   "source": [
    "x_list"
   ]
  },
  {
   "cell_type": "code",
   "execution_count": 50,
   "id": "65b594b8-899b-4f69-89c2-76e45ffe4c2e",
   "metadata": {},
   "outputs": [
    {
     "ename": "ValueError",
     "evalue": "The truth value of an array with more than one element is ambiguous. Use a.any() or a.all()",
     "output_type": "error",
     "traceback": [
      "\u001b[0;31m---------------------------------------------------------------------------\u001b[0m",
      "\u001b[0;31mValueError\u001b[0m                                Traceback (most recent call last)",
      "Cell \u001b[0;32mIn[50], line 1\u001b[0m\n\u001b[0;32m----> 1\u001b[0m \u001b[43mpiece_func\u001b[49m\u001b[43m(\u001b[49m\u001b[43mx_list\u001b[49m\u001b[43m,\u001b[49m\u001b[43m \u001b[49m\u001b[38;5;241;43m15\u001b[39;49m\u001b[43m)\u001b[49m\n",
      "Cell \u001b[0;32mIn[46], line 5\u001b[0m, in \u001b[0;36mpiece_func\u001b[0;34m(x, y)\u001b[0m\n\u001b[1;32m      3\u001b[0m \u001b[38;5;28;01mdef\u001b[39;00m \u001b[38;5;21mpiece_func\u001b[39m(x,y):\n\u001b[0;32m----> 5\u001b[0m     \u001b[38;5;28;01mif\u001b[39;00m (x\u001b[38;5;241m<\u001b[39m\u001b[38;5;241m10\u001b[39m) \u001b[38;5;241m&\u001b[39m (y\u001b[38;5;241m<\u001b[39m\u001b[38;5;241m10\u001b[39m):\n\u001b[1;32m      6\u001b[0m         \u001b[38;5;28;01mreturn\u001b[39;00m x\u001b[38;5;241m+\u001b[39my\n\u001b[1;32m      7\u001b[0m     \u001b[38;5;28;01melif\u001b[39;00m (\u001b[38;5;241m10\u001b[39m\u001b[38;5;241m<\u001b[39m\u001b[38;5;241m=\u001b[39mx\u001b[38;5;241m<\u001b[39m\u001b[38;5;241m=\u001b[39m\u001b[38;5;241m50\u001b[39m) \u001b[38;5;241m&\u001b[39m (\u001b[38;5;241m10\u001b[39m\u001b[38;5;241m<\u001b[39m\u001b[38;5;241m=\u001b[39my\u001b[38;5;241m<\u001b[39m\u001b[38;5;241m=\u001b[39m\u001b[38;5;241m20\u001b[39m):\n",
      "\u001b[0;31mValueError\u001b[0m: The truth value of an array with more than one element is ambiguous. Use a.any() or a.all()"
     ]
    }
   ],
   "source": [
    "piece_func(x_list, 15)"
   ]
  },
  {
   "cell_type": "markdown",
   "id": "a73f15b5-c206-4440-92d1-9fe97b60844e",
   "metadata": {},
   "source": [
    "This reproduces the error that I am dealing with. Now try a vectorized function."
   ]
  },
  {
   "cell_type": "code",
   "execution_count": 51,
   "id": "2dda08be-376a-4869-8ca9-df62f2a88a32",
   "metadata": {},
   "outputs": [],
   "source": [
    "vec_func = np.vectorize(piece_func)"
   ]
  },
  {
   "cell_type": "code",
   "execution_count": 52,
   "id": "b85f0344-28fc-478b-af42-9756c8708d59",
   "metadata": {},
   "outputs": [
    {
     "data": {
      "text/plain": [
       "array([2, 7, 0, 0, 0, 0, 0, 0, 0, 0, 0, 0, 0, 0, 0, 0])"
      ]
     },
     "execution_count": 52,
     "metadata": {},
     "output_type": "execute_result"
    }
   ],
   "source": [
    "vec_func(x_list,2)"
   ]
  },
  {
   "cell_type": "markdown",
   "id": "687fc8e4-a9cd-4555-8a4c-7bc42145afd7",
   "metadata": {},
   "source": [
    "This implies that as soon as if condition is satisfied it runs that part for all input values, and doesn't go over each value in the vector.\n",
    "\n",
    "Now, try a np.where approach"
   ]
  },
  {
   "cell_type": "code",
   "execution_count": 53,
   "id": "81a4ab8a-7dc4-45ed-95dd-b9b39132c031",
   "metadata": {},
   "outputs": [],
   "source": [
    "def piece_func(x,y):\n",
    "    conditions = [\n",
    "        (x<10) & (y<10),\n",
    "        (10<=x<=50) & (10<=y<=20)\n",
    "    ]\n",
    "\n",
    "    vals=[\n",
    "        (x+y),\n",
    "        (x-y)\n",
    "    ]\n",
    "\n",
    "    np.where(conditions, vals, 0)"
   ]
  },
  {
   "cell_type": "code",
   "execution_count": 54,
   "id": "54f4046c-c375-4184-bc61-c25becb178c6",
   "metadata": {},
   "outputs": [
    {
     "ename": "ValueError",
     "evalue": "The truth value of an array with more than one element is ambiguous. Use a.any() or a.all()",
     "output_type": "error",
     "traceback": [
      "\u001b[0;31m---------------------------------------------------------------------------\u001b[0m",
      "\u001b[0;31mValueError\u001b[0m                                Traceback (most recent call last)",
      "Cell \u001b[0;32mIn[54], line 1\u001b[0m\n\u001b[0;32m----> 1\u001b[0m \u001b[43mpiece_func\u001b[49m\u001b[43m(\u001b[49m\u001b[43mx_list\u001b[49m\u001b[43m,\u001b[49m\u001b[43m \u001b[49m\u001b[38;5;241;43m5\u001b[39;49m\u001b[43m)\u001b[49m\n",
      "Cell \u001b[0;32mIn[53], line 4\u001b[0m, in \u001b[0;36mpiece_func\u001b[0;34m(x, y)\u001b[0m\n\u001b[1;32m      1\u001b[0m \u001b[38;5;28;01mdef\u001b[39;00m \u001b[38;5;21mpiece_func\u001b[39m(x,y):\n\u001b[1;32m      2\u001b[0m     conditions \u001b[38;5;241m=\u001b[39m [\n\u001b[1;32m      3\u001b[0m         (x\u001b[38;5;241m<\u001b[39m\u001b[38;5;241m10\u001b[39m) \u001b[38;5;241m&\u001b[39m (y\u001b[38;5;241m<\u001b[39m\u001b[38;5;241m10\u001b[39m),\n\u001b[0;32m----> 4\u001b[0m         (\u001b[38;5;241m10\u001b[39m\u001b[38;5;241m<\u001b[39m\u001b[38;5;241m=\u001b[39mx\u001b[38;5;241m<\u001b[39m\u001b[38;5;241m=\u001b[39m\u001b[38;5;241m50\u001b[39m) \u001b[38;5;241m&\u001b[39m (\u001b[38;5;241m10\u001b[39m\u001b[38;5;241m<\u001b[39m\u001b[38;5;241m=\u001b[39my\u001b[38;5;241m<\u001b[39m\u001b[38;5;241m=\u001b[39m\u001b[38;5;241m20\u001b[39m)\n\u001b[1;32m      5\u001b[0m     ]\n\u001b[1;32m      7\u001b[0m     vals\u001b[38;5;241m=\u001b[39m[\n\u001b[1;32m      8\u001b[0m         (x\u001b[38;5;241m+\u001b[39my),\n\u001b[1;32m      9\u001b[0m         (x\u001b[38;5;241m-\u001b[39my)\n\u001b[1;32m     10\u001b[0m     ]\n\u001b[1;32m     12\u001b[0m     np\u001b[38;5;241m.\u001b[39mwhere(conditions, vals, \u001b[38;5;241m0\u001b[39m)\n",
      "\u001b[0;31mValueError\u001b[0m: The truth value of an array with more than one element is ambiguous. Use a.any() or a.all()"
     ]
    }
   ],
   "source": [
    "piece_func(x_list, 5)"
   ]
  },
  {
   "cell_type": "code",
   "execution_count": 57,
   "id": "06fc39d3-a926-4f3c-b502-d25d67c1ceb4",
   "metadata": {},
   "outputs": [
    {
     "name": "stdout",
     "output_type": "stream",
     "text": [
      "[-3  0  2]\n"
     ]
    }
   ],
   "source": [
    "def piecewise_func(x, y):\n",
    "    if x < 0 and y < 0:\n",
    "        return x + y\n",
    "    elif x >= 0 and y < 0:\n",
    "        return x - y\n",
    "    elif x < 0 and y >= 0:\n",
    "        return -x + y\n",
    "    else:\n",
    "        return x * y\n",
    "\n",
    "x_vals = np.array([-1, 0, 1])\n",
    "y_vals = np.array([-2, 1, 2])\n",
    "\n",
    "result = np.vectorize(piecewise_func)(x_vals, y_vals)\n",
    "\n",
    "print(result)"
   ]
  },
  {
   "cell_type": "markdown",
   "id": "3b750d3a-9d38-4044-9e9c-2536e9de7dcb",
   "metadata": {},
   "source": [
    "Try numpy.select for coding"
   ]
  },
  {
   "cell_type": "code",
   "execution_count": 62,
   "id": "881b7c82-de8c-4a87-be91-8c673fa29a5f",
   "metadata": {},
   "outputs": [],
   "source": [
    "def piece_func(x,y):\n",
    "    conditions=[\n",
    "        (x<10) & (y<10),\n",
    "        (10<=x<=50) & (10<=y<=20)\n",
    "    ]\n",
    "\n",
    "    funcs = [\n",
    "        (x+y),\n",
    "        (x-y)\n",
    "    ]\n",
    "\n",
    "    return np.select(conditions , funcs)"
   ]
  },
  {
   "cell_type": "code",
   "execution_count": 63,
   "id": "aad968bf-801c-4a7b-8824-960d22230c47",
   "metadata": {},
   "outputs": [
    {
     "data": {
      "text/plain": [
       "array(5)"
      ]
     },
     "execution_count": 63,
     "metadata": {},
     "output_type": "execute_result"
    }
   ],
   "source": [
    "piece_func(2,3)"
   ]
  },
  {
   "cell_type": "code",
   "execution_count": 64,
   "id": "11737203-9514-4691-9648-71fe6b624508",
   "metadata": {},
   "outputs": [
    {
     "ename": "ValueError",
     "evalue": "The truth value of an array with more than one element is ambiguous. Use a.any() or a.all()",
     "output_type": "error",
     "traceback": [
      "\u001b[0;31m---------------------------------------------------------------------------\u001b[0m",
      "\u001b[0;31mValueError\u001b[0m                                Traceback (most recent call last)",
      "Cell \u001b[0;32mIn[64], line 1\u001b[0m\n\u001b[0;32m----> 1\u001b[0m \u001b[43mpiece_func\u001b[49m\u001b[43m(\u001b[49m\u001b[43mx_list\u001b[49m\u001b[43m,\u001b[49m\u001b[38;5;241;43m2\u001b[39;49m\u001b[43m)\u001b[49m\n",
      "Cell \u001b[0;32mIn[62], line 4\u001b[0m, in \u001b[0;36mpiece_func\u001b[0;34m(x, y)\u001b[0m\n\u001b[1;32m      1\u001b[0m \u001b[38;5;28;01mdef\u001b[39;00m \u001b[38;5;21mpiece_func\u001b[39m(x,y):\n\u001b[1;32m      2\u001b[0m     conditions\u001b[38;5;241m=\u001b[39m[\n\u001b[1;32m      3\u001b[0m         (x\u001b[38;5;241m<\u001b[39m\u001b[38;5;241m10\u001b[39m) \u001b[38;5;241m&\u001b[39m (y\u001b[38;5;241m<\u001b[39m\u001b[38;5;241m10\u001b[39m),\n\u001b[0;32m----> 4\u001b[0m         (\u001b[38;5;241m10\u001b[39m\u001b[38;5;241m<\u001b[39m\u001b[38;5;241m=\u001b[39mx\u001b[38;5;241m<\u001b[39m\u001b[38;5;241m=\u001b[39m\u001b[38;5;241m50\u001b[39m) \u001b[38;5;241m&\u001b[39m (\u001b[38;5;241m10\u001b[39m\u001b[38;5;241m<\u001b[39m\u001b[38;5;241m=\u001b[39my\u001b[38;5;241m<\u001b[39m\u001b[38;5;241m=\u001b[39m\u001b[38;5;241m20\u001b[39m)\n\u001b[1;32m      5\u001b[0m     ]\n\u001b[1;32m      7\u001b[0m     funcs \u001b[38;5;241m=\u001b[39m [\n\u001b[1;32m      8\u001b[0m         (x\u001b[38;5;241m+\u001b[39my),\n\u001b[1;32m      9\u001b[0m         (x\u001b[38;5;241m-\u001b[39my)\n\u001b[1;32m     10\u001b[0m     ]\n\u001b[1;32m     12\u001b[0m     \u001b[38;5;28;01mreturn\u001b[39;00m np\u001b[38;5;241m.\u001b[39mselect(conditions , funcs)\n",
      "\u001b[0;31mValueError\u001b[0m: The truth value of an array with more than one element is ambiguous. Use a.any() or a.all()"
     ]
    }
   ],
   "source": [
    "piece_func(x_list,2)"
   ]
  },
  {
   "cell_type": "code",
   "execution_count": 65,
   "id": "7c55cd79-f1e0-4eb3-91c1-b488dfeaf55f",
   "metadata": {},
   "outputs": [],
   "source": [
    "vec_func = np.vectorize(piece_func)"
   ]
  },
  {
   "cell_type": "code",
   "execution_count": 66,
   "id": "17177bf2-26a5-4425-ac6b-64ece397ed2c",
   "metadata": {},
   "outputs": [
    {
     "data": {
      "text/plain": [
       "array([2, 7, 0, 0, 0, 0, 0, 0, 0, 0, 0, 0, 0, 0, 0, 0])"
      ]
     },
     "execution_count": 66,
     "metadata": {},
     "output_type": "execute_result"
    }
   ],
   "source": [
    "vec_func(x_list,2)"
   ]
  },
  {
   "cell_type": "code",
   "execution_count": 72,
   "id": "109bc038-8053-488b-b24b-4632761988af",
   "metadata": {},
   "outputs": [
    {
     "name": "stdout",
     "output_type": "stream",
     "text": [
      "Scalar result: 5.0\n",
      "Array result: [-2.  4.  6. 16.]\n",
      "Mix results with x_array and y scalar: [-4.  5. -6.  7.]\n",
      "Mix results with x scalar and y_array: [3. 4. 6. 8.]\n"
     ]
    }
   ],
   "source": [
    "import numpy as np\n",
    "\n",
    "def piecewise_function(x, y):\n",
    "    # Ensure x and y are numpy arrays for consistency\n",
    "    x = np.asarray(x)\n",
    "    y = np.asarray(y)\n",
    "\n",
    "    # Define conditions\n",
    "    conditions = [\n",
    "        (x < 0) & (y < 0),\n",
    "        (x >= 0) & (y < 0),\n",
    "        (x < 0) & (y >= 0),\n",
    "        (x >= 0) & (y >= 0)\n",
    "    ]\n",
    "\n",
    "    # Define corresponding outputs for each condition\n",
    "    choices = [\n",
    "        x + y,\n",
    "        x - y,\n",
    "        y - x,\n",
    "        x * y\n",
    "    ]\n",
    "\n",
    "    # Use np.select to apply conditions and choices\n",
    "    result = np.select(conditions, choices, default=np.nan)  # Use np.nan or another default if no condition is met\n",
    "\n",
    "    return result\n",
    "\n",
    "# Test with scalar inputs\n",
    "scalar_result = piecewise_function(2, -3)\n",
    "print(f\"Scalar result: {scalar_result}\")\n",
    "\n",
    "# Test with array inputs\n",
    "x_array = np.array([-1, 2, -3, 4])\n",
    "y_array = np.array([-1, -2, 3, 4])\n",
    "array_result = piecewise_function(x_array, y_array)\n",
    "print(f\"Array result: {array_result}\")\n",
    "\n",
    "# Test with array and scalar inputs\n",
    "mix_result_xray = piecewise_function(x_array, -3)\n",
    "mix_result_yray = piecewise_function(2, y_array)\n",
    "print(f\"Mix results with x_array and y scalar: {mix_result_xray}\")\n",
    "print(f\"Mix results with x scalar and y_array: {mix_result_yray}\")\n"
   ]
  },
  {
   "cell_type": "code",
   "execution_count": 73,
   "id": "01843e17-5407-4054-8b12-f2d051b5152b",
   "metadata": {},
   "outputs": [
    {
     "data": {
      "image/png": "[encoded data removed]",
      "text/plain": [
       "<Figure size 640x480 with 1 Axes>"
      ]
     },
     "metadata": {},
     "output_type": "display_data"
    }
   ],
   "source": [
    "from scipy.integrate import quad_vec\n",
    "import numpy as np\n",
    "import matplotlib.pyplot as plt\n",
    "alpha = np.linspace(0.0, 2.0, num=30)\n",
    "f = lambda x: x**alpha\n",
    "x0, x1 = 0, 2\n",
    "y, err = quad_vec(f, x0, x1)\n",
    "plt.plot(alpha, y)\n",
    "plt.xlabel(r\"$\\alpha$\")\n",
    "plt.ylabel(r\"$\\int_{0}^{2} x^\\alpha dx$\")\n",
    "plt.show()"
   ]
  },
  {
   "cell_type": "code",
   "execution_count": 1,
   "id": "9a2bdef9-b385-4d13-b0b6-ad35cd6adb19",
   "metadata": {},
   "outputs": [
    {
     "name": "stdout",
     "output_type": "stream",
     "text": [
      "Root: [2.35930409]\n"
     ]
    }
   ],
   "source": [
    "from scipy.optimize import fsolve\n",
    "\n",
    "# Define the function with an extra parameter\n",
    "def func(x, a):\n",
    "    return x**3 - 2*x**2 - 5 + a\n",
    "\n",
    "# Provide the value for the extra parameter\n",
    "a_value = 3.0\n",
    "\n",
    "# Provide an initial guess\n",
    "initial_guess = 2.0\n",
    "\n",
    "# Use lambda to include the extra argument\n",
    "root = fsolve(lambda x: func(x, a_value), initial_guess)\n",
    "\n",
    "print(\"Root:\", root)"
   ]
  },
  {
   "cell_type": "code",
   "execution_count": null,
   "id": "580912b6-f8be-45e7-b331-cf40faa97cdf",
   "metadata": {},
   "outputs": [],
   "source": []
  }
 ],
 "metadata": {
  "kernelspec": {
   "display_name": "Python 3 (ipykernel)",
   "language": "python",
   "name": "python3"
  },
  "language_info": {
   "codemirror_mode": {
    "name": "ipython",
    "version": 3
   },
   "file_extension": ".py",
   "mimetype": "text/x-python",
   "name": "python",
   "nbconvert_exporter": "python",
   "pygments_lexer": "ipython3",
   "version": "3.12.7"
  }
 },
 "nbformat": 4,
 "nbformat_minor": 5
}
