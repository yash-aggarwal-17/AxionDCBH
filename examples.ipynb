{
 "cells": [
  {
   "cell_type": "code",
   "execution_count": 1,
   "id": "86ea4b81-c8e9-4978-a379-7989c0d7eb4f",
   "metadata": {},
   "outputs": [],
   "source": [
    "# Import libraries\n",
    "import numpy as np\n",
    "import matplotlib.pyplot as plt\n",
    "from physics import definitions as phys\n",
    "\n",
    "from scipy.optimize import fsolve"
   ]
  },
  {
   "cell_type": "markdown",
   "id": "a75faf0d-eed2-40ee-9cfc-4d68e63ba0fa",
   "metadata": {},
   "source": [
    "# Vectorized Piecewise Functions"
   ]
  },
  {
   "cell_type": "code",
   "execution_count": 2,
   "id": "da2e073c-fede-4d75-a7c6-5eb4b1c87bd0",
   "metadata": {},
   "outputs": [],
   "source": [
    "# Define a piecewise function\n",
    "\n",
    "def piece_func(x,y):\n",
    "\n",
    "    if (x<10) & (y<10):\n",
    "        return x+y\n",
    "    elif (10<=x<=50) & (10<=y<=20):\n",
    "        return x - y\n",
    "    else:\n",
    "        return 0\n"
   ]
  },
  {
   "cell_type": "code",
   "execution_count": 3,
   "id": "91bff2fd-f89a-44c6-b7a8-7987f9faa89b",
   "metadata": {},
   "outputs": [
    {
     "data": {
      "text/plain": [
       "5"
      ]
     },
     "execution_count": 3,
     "metadata": {},
     "output_type": "execute_result"
    }
   ],
   "source": [
    "piece_func(20,15)"
   ]
  },
  {
   "cell_type": "code",
   "execution_count": 4,
   "id": "9b0e57e1-6f36-4fde-be89-568487ddc4a6",
   "metadata": {},
   "outputs": [],
   "source": [
    "# Try a np.array input\n",
    "\n",
    "x_list=np.arange(0,80,5)"
   ]
  },
  {
   "cell_type": "code",
   "execution_count": 5,
   "id": "efdc5974-7439-40ef-9394-37484904ba43",
   "metadata": {},
   "outputs": [
    {
     "data": {
      "text/plain": [
       "array([ 0,  5, 10, 15, 20, 25, 30, 35, 40, 45, 50, 55, 60, 65, 70, 75])"
      ]
     },
     "execution_count": 5,
     "metadata": {},
     "output_type": "execute_result"
    }
   ],
   "source": [
    "x_list"
   ]
  },
  {
   "cell_type": "markdown",
   "id": "a73f15b5-c206-4440-92d1-9fe97b60844e",
   "metadata": {},
   "source": [
    "This reproduces the error that I am dealing with. Now try a vectorized function."
   ]
  },
  {
   "cell_type": "code",
   "execution_count": 6,
   "id": "2dda08be-376a-4869-8ca9-df62f2a88a32",
   "metadata": {},
   "outputs": [],
   "source": [
    "vec_func = np.vectorize(piece_func)"
   ]
  },
  {
   "cell_type": "code",
   "execution_count": 7,
   "id": "b85f0344-28fc-478b-af42-9756c8708d59",
   "metadata": {},
   "outputs": [
    {
     "data": {
      "text/plain": [
       "array([2, 7, 0, 0, 0, 0, 0, 0, 0, 0, 0, 0, 0, 0, 0, 0])"
      ]
     },
     "execution_count": 7,
     "metadata": {},
     "output_type": "execute_result"
    }
   ],
   "source": [
    "vec_func(x_list,2)"
   ]
  },
  {
   "cell_type": "markdown",
   "id": "687fc8e4-a9cd-4555-8a4c-7bc42145afd7",
   "metadata": {},
   "source": [
    "This implies that as soon as if condition is satisfied it runs that part for all input values, and doesn't go over each value in the vector.\n",
    "\n",
    "Now, try a np.where approach"
   ]
  },
  {
   "cell_type": "code",
   "execution_count": 8,
   "id": "81a4ab8a-7dc4-45ed-95dd-b9b39132c031",
   "metadata": {},
   "outputs": [],
   "source": [
    "def piece_func(x,y):\n",
    "    conditions = [\n",
    "        (x<10) & (y<10),\n",
    "        (10<=x<=50) & (10<=y<=20)\n",
    "    ]\n",
    "\n",
    "    vals=[\n",
    "        (x+y),\n",
    "        (x-y)\n",
    "    ]\n",
    "\n",
    "    np.where(conditions, vals, 0)"
   ]
  },
  {
   "cell_type": "code",
   "execution_count": 9,
   "id": "54f4046c-c375-4184-bc61-c25becb178c6",
   "metadata": {},
   "outputs": [
    {
     "ename": "ValueError",
     "evalue": "The truth value of an array with more than one element is ambiguous. Use a.any() or a.all()",
     "output_type": "error",
     "traceback": [
      "\u001b[0;31m---------------------------------------------------------------------------\u001b[0m",
      "\u001b[0;31mValueError\u001b[0m                                Traceback (most recent call last)",
      "Cell \u001b[0;32mIn[9], line 1\u001b[0m\n\u001b[0;32m----> 1\u001b[0m \u001b[43mpiece_func\u001b[49m\u001b[43m(\u001b[49m\u001b[43mx_list\u001b[49m\u001b[43m,\u001b[49m\u001b[43m \u001b[49m\u001b[38;5;241;43m5\u001b[39;49m\u001b[43m)\u001b[49m\n",
      "Cell \u001b[0;32mIn[8], line 4\u001b[0m, in \u001b[0;36mpiece_func\u001b[0;34m(x, y)\u001b[0m\n\u001b[1;32m      1\u001b[0m \u001b[38;5;28;01mdef\u001b[39;00m \u001b[38;5;21mpiece_func\u001b[39m(x,y):\n\u001b[1;32m      2\u001b[0m     conditions \u001b[38;5;241m=\u001b[39m [\n\u001b[1;32m      3\u001b[0m         (x\u001b[38;5;241m<\u001b[39m\u001b[38;5;241m10\u001b[39m) \u001b[38;5;241m&\u001b[39m (y\u001b[38;5;241m<\u001b[39m\u001b[38;5;241m10\u001b[39m),\n\u001b[0;32m----> 4\u001b[0m         (\u001b[38;5;241m10\u001b[39m\u001b[38;5;241m<\u001b[39m\u001b[38;5;241m=\u001b[39mx\u001b[38;5;241m<\u001b[39m\u001b[38;5;241m=\u001b[39m\u001b[38;5;241m50\u001b[39m) \u001b[38;5;241m&\u001b[39m (\u001b[38;5;241m10\u001b[39m\u001b[38;5;241m<\u001b[39m\u001b[38;5;241m=\u001b[39my\u001b[38;5;241m<\u001b[39m\u001b[38;5;241m=\u001b[39m\u001b[38;5;241m20\u001b[39m)\n\u001b[1;32m      5\u001b[0m     ]\n\u001b[1;32m      7\u001b[0m     vals\u001b[38;5;241m=\u001b[39m[\n\u001b[1;32m      8\u001b[0m         (x\u001b[38;5;241m+\u001b[39my),\n\u001b[1;32m      9\u001b[0m         (x\u001b[38;5;241m-\u001b[39my)\n\u001b[1;32m     10\u001b[0m     ]\n\u001b[1;32m     12\u001b[0m     np\u001b[38;5;241m.\u001b[39mwhere(conditions, vals, \u001b[38;5;241m0\u001b[39m)\n",
      "\u001b[0;31mValueError\u001b[0m: The truth value of an array with more than one element is ambiguous. Use a.any() or a.all()"
     ]
    }
   ],
   "source": [
    "piece_func(x_list, 5)"
   ]
  },
  {
   "cell_type": "code",
   "execution_count": 10,
   "id": "06fc39d3-a926-4f3c-b502-d25d67c1ceb4",
   "metadata": {},
   "outputs": [
    {
     "name": "stdout",
     "output_type": "stream",
     "text": [
      "[-3  0  2]\n"
     ]
    }
   ],
   "source": [
    "def piecewise_func(x, y):\n",
    "    if x < 0 and y < 0:\n",
    "        return x + y\n",
    "    elif x >= 0 and y < 0:\n",
    "        return x - y\n",
    "    elif x < 0 and y >= 0:\n",
    "        return -x + y\n",
    "    else:\n",
    "        return x * y\n",
    "\n",
    "x_vals = np.array([-1, 0, 1])\n",
    "y_vals = np.array([-2, 1, 2])\n",
    "\n",
    "result = np.vectorize(piecewise_func)(x_vals, y_vals)\n",
    "\n",
    "print(result)"
   ]
  },
  {
   "cell_type": "markdown",
   "id": "3b750d3a-9d38-4044-9e9c-2536e9de7dcb",
   "metadata": {},
   "source": [
    "Try numpy.select for coding"
   ]
  },
  {
   "cell_type": "code",
   "execution_count": 11,
   "id": "881b7c82-de8c-4a87-be91-8c673fa29a5f",
   "metadata": {},
   "outputs": [],
   "source": [
    "def piece_func(x,y):\n",
    "    conditions=[\n",
    "        (x<10) & (y<10),\n",
    "        (10<=x<=50) & (10<=y<=20)\n",
    "    ]\n",
    "\n",
    "    funcs = [\n",
    "        (x+y),\n",
    "        (x-y)\n",
    "    ]\n",
    "\n",
    "    return np.select(conditions , funcs)"
   ]
  },
  {
   "cell_type": "code",
   "execution_count": 12,
   "id": "aad968bf-801c-4a7b-8824-960d22230c47",
   "metadata": {},
   "outputs": [
    {
     "data": {
      "text/plain": [
       "array(5)"
      ]
     },
     "execution_count": 12,
     "metadata": {},
     "output_type": "execute_result"
    }
   ],
   "source": [
    "piece_func(2,3)"
   ]
  },
  {
   "cell_type": "code",
   "execution_count": 13,
   "id": "11737203-9514-4691-9648-71fe6b624508",
   "metadata": {},
   "outputs": [
    {
     "ename": "ValueError",
     "evalue": "The truth value of an array with more than one element is ambiguous. Use a.any() or a.all()",
     "output_type": "error",
     "traceback": [
      "\u001b[0;31m---------------------------------------------------------------------------\u001b[0m",
      "\u001b[0;31mValueError\u001b[0m                                Traceback (most recent call last)",
      "Cell \u001b[0;32mIn[13], line 1\u001b[0m\n\u001b[0;32m----> 1\u001b[0m \u001b[43mpiece_func\u001b[49m\u001b[43m(\u001b[49m\u001b[43mx_list\u001b[49m\u001b[43m,\u001b[49m\u001b[38;5;241;43m2\u001b[39;49m\u001b[43m)\u001b[49m\n",
      "Cell \u001b[0;32mIn[11], line 4\u001b[0m, in \u001b[0;36mpiece_func\u001b[0;34m(x, y)\u001b[0m\n\u001b[1;32m      1\u001b[0m \u001b[38;5;28;01mdef\u001b[39;00m \u001b[38;5;21mpiece_func\u001b[39m(x,y):\n\u001b[1;32m      2\u001b[0m     conditions\u001b[38;5;241m=\u001b[39m[\n\u001b[1;32m      3\u001b[0m         (x\u001b[38;5;241m<\u001b[39m\u001b[38;5;241m10\u001b[39m) \u001b[38;5;241m&\u001b[39m (y\u001b[38;5;241m<\u001b[39m\u001b[38;5;241m10\u001b[39m),\n\u001b[0;32m----> 4\u001b[0m         (\u001b[38;5;241m10\u001b[39m\u001b[38;5;241m<\u001b[39m\u001b[38;5;241m=\u001b[39mx\u001b[38;5;241m<\u001b[39m\u001b[38;5;241m=\u001b[39m\u001b[38;5;241m50\u001b[39m) \u001b[38;5;241m&\u001b[39m (\u001b[38;5;241m10\u001b[39m\u001b[38;5;241m<\u001b[39m\u001b[38;5;241m=\u001b[39my\u001b[38;5;241m<\u001b[39m\u001b[38;5;241m=\u001b[39m\u001b[38;5;241m20\u001b[39m)\n\u001b[1;32m      5\u001b[0m     ]\n\u001b[1;32m      7\u001b[0m     funcs \u001b[38;5;241m=\u001b[39m [\n\u001b[1;32m      8\u001b[0m         (x\u001b[38;5;241m+\u001b[39my),\n\u001b[1;32m      9\u001b[0m         (x\u001b[38;5;241m-\u001b[39my)\n\u001b[1;32m     10\u001b[0m     ]\n\u001b[1;32m     12\u001b[0m     \u001b[38;5;28;01mreturn\u001b[39;00m np\u001b[38;5;241m.\u001b[39mselect(conditions , funcs)\n",
      "\u001b[0;31mValueError\u001b[0m: The truth value of an array with more than one element is ambiguous. Use a.any() or a.all()"
     ]
    }
   ],
   "source": [
    "piece_func(x_list,2)"
   ]
  },
  {
   "cell_type": "code",
   "execution_count": 14,
   "id": "7c55cd79-f1e0-4eb3-91c1-b488dfeaf55f",
   "metadata": {},
   "outputs": [],
   "source": [
    "vec_func = np.vectorize(piece_func)"
   ]
  },
  {
   "cell_type": "code",
   "execution_count": 15,
   "id": "17177bf2-26a5-4425-ac6b-64ece397ed2c",
   "metadata": {},
   "outputs": [
    {
     "data": {
      "text/plain": [
       "array([2, 7, 0, 0, 0, 0, 0, 0, 0, 0, 0, 0, 0, 0, 0, 0])"
      ]
     },
     "execution_count": 15,
     "metadata": {},
     "output_type": "execute_result"
    }
   ],
   "source": [
    "vec_func(x_list,2)"
   ]
  },
  {
   "cell_type": "code",
   "execution_count": 16,
   "id": "109bc038-8053-488b-b24b-4632761988af",
   "metadata": {},
   "outputs": [
    {
     "name": "stdout",
     "output_type": "stream",
     "text": [
      "Scalar result: 5.0\n",
      "Array result: [-2.  4.  6. 16.]\n",
      "Mix results with x_array and y scalar: [-4.  5. -6.  7.]\n",
      "Mix results with x scalar and y_array: [3. 4. 6. 8.]\n"
     ]
    }
   ],
   "source": [
    "import numpy as np\n",
    "\n",
    "def piecewise_function(x, y):\n",
    "    # Ensure x and y are numpy arrays for consistency\n",
    "    x = np.asarray(x)\n",
    "    y = np.asarray(y)\n",
    "\n",
    "    # Define conditions\n",
    "    conditions = [\n",
    "        (x < 0) & (y < 0),\n",
    "        (x >= 0) & (y < 0),\n",
    "        (x < 0) & (y >= 0),\n",
    "        (x >= 0) & (y >= 0)\n",
    "    ]\n",
    "\n",
    "    # Define corresponding outputs for each condition\n",
    "    choices = [\n",
    "        x + y,\n",
    "        x - y,\n",
    "        y - x,\n",
    "        x * y\n",
    "    ]\n",
    "\n",
    "    # Use np.select to apply conditions and choices\n",
    "    result = np.select(conditions, choices, default=np.nan)  # Use np.nan or another default if no condition is met\n",
    "\n",
    "    return result\n",
    "\n",
    "# Test with scalar inputs\n",
    "scalar_result = piecewise_function(2, -3)\n",
    "print(f\"Scalar result: {scalar_result}\")\n",
    "\n",
    "# Test with array inputs\n",
    "x_array = np.array([-1, 2, -3, 4])\n",
    "y_array = np.array([-1, -2, 3, 4])\n",
    "array_result = piecewise_function(x_array, y_array)\n",
    "print(f\"Array result: {array_result}\")\n",
    "\n",
    "# Test with array and scalar inputs\n",
    "mix_result_xray = piecewise_function(x_array, -3)\n",
    "mix_result_yray = piecewise_function(2, y_array)\n",
    "print(f\"Mix results with x_array and y scalar: {mix_result_xray}\")\n",
    "print(f\"Mix results with x scalar and y_array: {mix_result_yray}\")\n"
   ]
  },
  {
   "cell_type": "code",
   "execution_count": 17,
   "id": "01843e17-5407-4054-8b12-f2d051b5152b",
   "metadata": {},
   "outputs": [
    {
     "data": {
      "image/png": "[encoded data removed]",
      "text/plain": [
       "<Figure size 640x480 with 1 Axes>"
      ]
     },
     "metadata": {},
     "output_type": "display_data"
    }
   ],
   "source": [
    "from scipy.integrate import quad_vec\n",
    "import numpy as np\n",
    "import matplotlib.pyplot as plt\n",
    "alpha = np.linspace(0.0, 2.0, num=30)\n",
    "f = lambda x: x**alpha\n",
    "x0, x1 = 0, 2\n",
    "y, err = quad_vec(f, x0, x1)\n",
    "plt.plot(alpha, y)\n",
    "plt.xlabel(r\"$\\alpha$\")\n",
    "plt.ylabel(r\"$\\int_{0}^{2} x^\\alpha dx$\")\n",
    "plt.show()"
   ]
  },
  {
   "cell_type": "code",
   "execution_count": 18,
   "id": "9a2bdef9-b385-4d13-b0b6-ad35cd6adb19",
   "metadata": {},
   "outputs": [
    {
     "name": "stdout",
     "output_type": "stream",
     "text": [
      "Root: [2.35930409]\n"
     ]
    }
   ],
   "source": [
    "from scipy.optimize import fsolve\n",
    "\n",
    "# Define the function with an extra parameter\n",
    "def func(x, a):\n",
    "    return x**3 - 2*x**2 - 5 + a\n",
    "\n",
    "# Provide the value for the extra parameter\n",
    "a_value = 3.0\n",
    "\n",
    "# Provide an initial guess\n",
    "initial_guess = 2.0\n",
    "\n",
    "# Use lambda to include the extra argument\n",
    "root = fsolve(lambda x: func(x, a_value), initial_guess)\n",
    "\n",
    "print(\"Root:\", root)"
   ]
  },
  {
   "cell_type": "code",
   "execution_count": 19,
   "id": "580912b6-f8be-45e7-b331-cf40faa97cdf",
   "metadata": {},
   "outputs": [],
   "source": [
    "def nH_Halo_crude(zvir, z):\n",
    "\n",
    "    # Convert arguments to array\n",
    "    zvir = np.asarray(zvir)\n",
    "    z = np.asarray(z)\n",
    "    \n",
    "    # Define A\n",
    "    A = (1+zvir)/(1+z)\n",
    "    # Define conditions for pre and post collapse\n",
    "    conditions = [\n",
    "        (z>zvir),\n",
    "        (z<=zvir)\n",
    "    ]\n",
    "\n",
    "    # Define values to return\n",
    "    funcs=[\n",
    "        phys.nH0*(1+z)**3 * np.exp((1.9*A) / (1 - 0.75*A**2)),\n",
    "        ##1.2 * MAH(1e+8,zvir)/(1e+6) * ((1+zvir) / 10)**(3/2)\n",
    "        phys.nH0*(1+zvir)**3 * np.exp(1.9 / (1 - 0.75))\n",
    "    ]\n",
    "\n",
    "    return np.select(conditions, funcs, default=0)"
   ]
  },
  {
   "cell_type": "code",
   "execution_count": 20,
   "id": "8b6eead7-b231-4c6a-8bc8-06b64c32dd0c",
   "metadata": {},
   "outputs": [
    {
     "data": {
      "text/plain": [
       "3.602745519863827"
      ]
     },
     "execution_count": 20,
     "metadata": {},
     "output_type": "execute_result"
    }
   ],
   "source": [
    "380*(8e-3/89)**(1/2)"
   ]
  },
  {
   "cell_type": "code",
   "execution_count": 21,
   "id": "5ce8e8be-1296-4778-a2ea-6d7f6126b846",
   "metadata": {},
   "outputs": [
    {
     "data": {
      "text/plain": [
       "15.626899884494046"
      ]
     },
     "execution_count": 21,
     "metadata": {},
     "output_type": "execute_result"
    }
   ],
   "source": [
    "(9+ 2*9.8*12)**(1/2)"
   ]
  },
  {
   "cell_type": "code",
   "execution_count": 22,
   "id": "2b9b73f9-92cf-4583-aa05-23bcb540aebe",
   "metadata": {},
   "outputs": [
    {
     "data": {
      "text/plain": [
       "16.2"
      ]
     },
     "execution_count": 22,
     "metadata": {},
     "output_type": "execute_result"
    }
   ],
   "source": [
    "9*1.8"
   ]
  },
  {
   "cell_type": "code",
   "execution_count": 23,
   "id": "328b012e-861a-41c1-88f5-9ffc87f5dfa6",
   "metadata": {},
   "outputs": [
    {
     "data": {
      "text/plain": [
       "0.5102040816326531"
      ]
     },
     "execution_count": 23,
     "metadata": {},
     "output_type": "execute_result"
    }
   ],
   "source": [
    "250*0.2*0.2 / (2 * 9.8)"
   ]
  },
  {
   "cell_type": "code",
   "execution_count": 24,
   "id": "9dab61ba-2d99-41ce-b9c1-545523a6cbeb",
   "metadata": {},
   "outputs": [
    {
     "data": {
      "text/plain": [
       "0.31"
      ]
     },
     "execution_count": 24,
     "metadata": {},
     "output_type": "execute_result"
    }
   ],
   "source": [
    "0.51-0.2"
   ]
  },
  {
   "cell_type": "code",
   "execution_count": 25,
   "id": "3a392397-c888-45e0-8896-51b44317a13f",
   "metadata": {},
   "outputs": [
    {
     "data": {
      "text/plain": [
       "161.34146341463415"
      ]
     },
     "execution_count": 25,
     "metadata": {},
     "output_type": "execute_result"
    }
   ],
   "source": [
    "30*9.8*4.5/8.2"
   ]
  },
  {
   "cell_type": "code",
   "execution_count": 26,
   "id": "89a8f61c-edc7-4939-b88c-757c89456ff6",
   "metadata": {},
   "outputs": [
    {
     "data": {
      "text/plain": [
       "0.6666666666666667"
      ]
     },
     "execution_count": 26,
     "metadata": {},
     "output_type": "execute_result"
    }
   ],
   "source": [
    "1 - 1/(3)"
   ]
  },
  {
   "cell_type": "code",
   "execution_count": 27,
   "id": "81019edf-1ba7-4875-a6dd-835432c1326d",
   "metadata": {},
   "outputs": [
    {
     "data": {
      "text/plain": [
       "63.245553203367585"
      ]
     },
     "execution_count": 27,
     "metadata": {},
     "output_type": "execute_result"
    }
   ],
   "source": [
    "(4e+3)**(1/2)"
   ]
  },
  {
   "cell_type": "code",
   "execution_count": 28,
   "id": "8ccfa10a-f972-4621-8fbd-014d776ea7b4",
   "metadata": {},
   "outputs": [
    {
     "data": {
      "text/plain": [
       "1428.5714285714284"
      ]
     },
     "execution_count": 28,
     "metadata": {},
     "output_type": "execute_result"
    }
   ],
   "source": [
    "0.25*20*20/0.07"
   ]
  },
  {
   "cell_type": "code",
   "execution_count": 29,
   "id": "04d060ff-f1ba-454c-bc0b-ead1d5e5f7a6",
   "metadata": {},
   "outputs": [],
   "source": [
    "# Define Low Density Cooling Rate per H2 molecule \n",
    "def lambda_low_n(n,T):\n",
    "    \"\"\" \n",
    "    Returns cooling rate per H2 molecule in low density regime. \n",
    "    units: ergs s^(-1)\n",
    "    \"\"\"\n",
    "        \n",
    "    x=np.log10(T)\n",
    "    val = 10**( - 103.0 + 97.59*x - 48.05*(x)**2 + 10.80 * (x)**3 - 0.9032*(x)**4 )\n",
    "    return val * n \n",
    "\n",
    "# Define LTE cooling rate \n",
    "def lambda_LTE(T): \n",
    "\n",
    "    \"\"\" \n",
    "    At LTE values, the cooling rate is independent of H number density \n",
    "    units: ergs s^(-1)\n",
    "    \"\"\"\n",
    "    x = T/1e+3 \n",
    "    # Rotational cooling term \n",
    "    lambda_rot_1 = ( (9.5e-22 * x**(3.76) ) / (1 + 0.12 * x**(2.1) ) *\n",
    "                       np.exp(- (0.13/x)**3 ) \n",
    "                       )\n",
    "    lambda_rot_2 = 3e-24*np.exp(-0.51 / x)\n",
    "\n",
    "    # Vibrational Cooling Term \n",
    "    lambda_vib_1 = 6.7e-19*np.exp( - 5.86/x)\n",
    "    lambda_vib_2 = 1.6e-18*np.exp( - 11.7/x)\n",
    "    \n",
    "    return (lambda_rot_1 + lambda_rot_2 + lambda_vib_1 + lambda_vib_2)\n"
   ]
  },
  {
   "cell_type": "code",
   "execution_count": 30,
   "id": "0cc75337-1979-4b44-b9b2-a122fb1434d8",
   "metadata": {},
   "outputs": [
    {
     "data": {
      "text/plain": [
       "[<matplotlib.lines.Line2D at 0x1323fa870>]"
      ]
     },
     "execution_count": 30,
     "metadata": {},
     "output_type": "execute_result"
    },
    {
     "data": {
      "image/png": "[encoded data removed]",
      "text/plain": [
       "<Figure size 780x640 with 1 Axes>"
      ]
     },
     "metadata": {},
     "output_type": "display_data"
    }
   ],
   "source": [
    "# Plot low density cooling rate vs high density cooling rate per H2 molecule \n",
    "temp_list =10**np.linspace(1,4,100)\n",
    "\n",
    "plt.figure(figsize=(7.8,6.4))\n",
    "plt.loglog() \n",
    "\n",
    "plt.plot ( temp_list, lambda_low_n(1,temp_list))\n",
    "plt.plot ( temp_list, lambda_low_n(100,temp_list))\n",
    "plt.plot ( temp_list, lambda_LTE(temp_list))\n"
   ]
  },
  {
   "cell_type": "code",
   "execution_count": 31,
   "id": "f18ab5d4-15a5-42ad-8ed0-3699d4552376",
   "metadata": {},
   "outputs": [],
   "source": [
    "# Define the effective H2 cooling rate by bridging low density and high density pieces \n",
    "def lambda_H2_cool (nH , T): \n",
    "    val = lambda_low_n (nH,T) * lambda_LTE(T) / (lambda_low_n (nH,T) + lambda_LTE(T) )\n",
    "    return val"
   ]
  },
  {
   "cell_type": "code",
   "execution_count": 32,
   "id": "f2834481-04c7-4176-9630-d7a7698100cd",
   "metadata": {},
   "outputs": [
    {
     "data": {
      "image/png": "[encoded data removed]",
      "text/plain": [
       "<Figure size 780x640 with 1 Axes>"
      ]
     },
     "metadata": {},
     "output_type": "display_data"
    }
   ],
   "source": [
    "# Plot effective H2 cooling rate per molecule \n",
    "\n",
    "plt.figure(figsize=(7.8,6.4))\n",
    "plt.loglog() \n",
    "\n",
    "\n",
    "plt.plot ( temp_list, lambda_H2_cool(0.1,temp_list))\n",
    "plt.plot ( temp_list, lambda_H2_cool(10,temp_list))\n",
    "plt.plot ( temp_list, lambda_H2_cool(1e+3,temp_list))\n",
    "plt.plot ( temp_list, lambda_H2_cool(1e+5,temp_list))\n",
    "\n",
    "plt.xlim(10,1e+4)\n",
    "plt.ylim(1e-30, 1e-17)\n",
    "\n",
    "plt.grid()"
   ]
  },
  {
   "cell_type": "code",
   "execution_count": 33,
   "id": "832bd700-74ae-41fa-8733-d1a7f5605df4",
   "metadata": {},
   "outputs": [],
   "source": [
    "# Define H2 cooling function \n",
    "\n",
    "def lambda_H2_cool (T ,nH): \n",
    "\n",
    "    # Define Low Density Cooling Rate\n",
    "    def lambda_low_n(T):\n",
    "        x=np.log10(T)\n",
    "        val = 10**( - 103.0 + 97.59*x - 48.05*(x)**2 + 10.80 * (x)**3 - 0.9032*(x)**4 )\n",
    "        return val \n",
    "\n",
    "    # Define LTE cooling rate \n",
    "    def lambda_LTE(T): \n",
    "\n",
    "        x = T/1e+3 \n",
    "        # Rotational cooling term \n",
    "        lambda_rot_1 = ( (9.5e-22 * x**(3.76) ) / (1 + 0.12 * x**(2.1) ) *\n",
    "                       np.exp(- (0.13/x)**3 ) \n",
    "                       )\n",
    "        lambda_rot_2 = 3e-24*np.exp(-0.51 / x)\n",
    "\n",
    "        # Vibrational Cooling Term \n",
    "        lambda_vib_1 = 6.7e-19*np.exp( - 5.86/x)\n",
    "        lambda_vib_2 = 1.6e-18*np.exp( - 11.7/x)\n",
    "\n",
    "        return (lambda_rot_1 + lambda_rot_2 + lambda_vib_1 + lambda_vib_2)\n",
    "\n",
    "    # Define critical density to H number density \n",
    "    ncr_nH = lambda_LTE(T) / lambda_low_n(T)\n",
    "\n",
    "    # Define total cooling rate \n",
    "    val = lambda_LTE(T) / ( 1 + ncr_nH )\n",
    "    \n",
    "    return val"
   ]
  },
  {
   "cell_type": "code",
   "execution_count": 34,
   "id": "278e7182-8c0e-4757-92d7-82f715149528",
   "metadata": {},
   "outputs": [
    {
     "data": {
      "text/plain": [
       "np.float64(1.132172941825851e-22)"
      ]
     },
     "execution_count": 34,
     "metadata": {},
     "output_type": "execute_result"
    }
   ],
   "source": [
    "lambda_H2_cool(5000,0.1)"
   ]
  },
  {
   "cell_type": "code",
   "execution_count": 35,
   "id": "766f647f-a262-4c57-ae91-6771cf680052",
   "metadata": {},
   "outputs": [
    {
     "data": {
      "image/png": "[encoded data removed]",
      "text/plain": [
       "<Figure size 780x640 with 1 Axes>"
      ]
     },
     "metadata": {},
     "output_type": "display_data"
    }
   ],
   "source": [
    "temp_list =10**np.linspace(1,4,100)\n",
    "\n",
    "plt.figure(figsize=(7.8,6.4))\n",
    "plt.loglog()\n",
    "\n",
    "plt.plot(temp_list, lambda_H2_cool(temp_list, 1))\n",
    "plt.plot(temp_list, lambda_H2_cool(temp_list, 1e+2))\n",
    "plt.plot(temp_list, lambda_H2_cool(temp_list, 1e+6))\n",
    "\n",
    "plt.ylim(1e-30, 1e-16)\n",
    "plt.xlim(1e+1,1e+4)\n",
    "\n",
    "plt.xlabel('T (K)')\n",
    "plt.ylabel(r'$\\Lambda_{H_2}$ (ergs s$^{-1}$)')\n",
    "\n",
    "plt.show()"
   ]
  },
  {
   "cell_type": "markdown",
   "id": "72154c0e-80f9-4108-8dc6-c27ccc0f0386",
   "metadata": {},
   "source": [
    "This agrees well with Galli and Palla 1998 fig. A1"
   ]
  },
  {
   "cell_type": "code",
   "execution_count": 36,
   "id": "ed10f04a-d08f-4f0b-b1a6-6b6612054860",
   "metadata": {},
   "outputs": [
    {
     "ename": "TypeError",
     "evalue": "lambda_H2_cool() missing 1 required positional argument: 'nH'",
     "output_type": "error",
     "traceback": [
      "\u001b[0;31m---------------------------------------------------------------------------\u001b[0m",
      "\u001b[0;31mTypeError\u001b[0m                                 Traceback (most recent call last)",
      "Cell \u001b[0;32mIn[36], line 6\u001b[0m\n\u001b[1;32m      3\u001b[0m plt\u001b[38;5;241m.\u001b[39mfigure(figsize\u001b[38;5;241m=\u001b[39m(\u001b[38;5;241m7.8\u001b[39m,\u001b[38;5;241m6.4\u001b[39m))\n\u001b[1;32m      4\u001b[0m plt\u001b[38;5;241m.\u001b[39mloglog()\n\u001b[0;32m----> 6\u001b[0m plt\u001b[38;5;241m.\u001b[39mplot(temp_list, \u001b[38;5;241m100\u001b[39m\u001b[38;5;241m*\u001b[39m\u001b[38;5;241m1e-4\u001b[39m\u001b[38;5;241m*\u001b[39m\u001b[43mlambda_H2_cool\u001b[49m\u001b[43m(\u001b[49m\u001b[43mtemp_list\u001b[49m\u001b[43m)\u001b[49m)\n\u001b[1;32m      7\u001b[0m plt\u001b[38;5;241m.\u001b[39mplot(temp_list, phys\u001b[38;5;241m.\u001b[39mlambda_H2(\u001b[38;5;241m1e-4\u001b[39m,\u001b[38;5;241m10\u001b[39m,temp_list))\n\u001b[1;32m      8\u001b[0m plt\u001b[38;5;241m.\u001b[39mgrid()\n",
      "\u001b[0;31mTypeError\u001b[0m: lambda_H2_cool() missing 1 required positional argument: 'nH'"
     ]
    },
    {
     "data": {
      "image/png": "[encoded data removed]",
      "text/plain": [
       "<Figure size 780x640 with 1 Axes>"
      ]
     },
     "metadata": {},
     "output_type": "display_data"
    }
   ],
   "source": [
    "temp_list =10**np.linspace(2,4,100)\n",
    "\n",
    "plt.figure(figsize=(7.8,6.4))\n",
    "plt.loglog()\n",
    "\n",
    "plt.plot(temp_list, 100*1e-4*lambda_H2_cool(temp_list))\n",
    "plt.plot(temp_list, phys.lambda_H2(1e-4,10,temp_list))\n",
    "plt.grid()\n",
    "\n",
    "plt.ylim(1e-30, 1e-21)\n",
    "plt.xlim(1e+1,1e+4)"
   ]
  },
  {
   "cell_type": "code",
   "execution_count": null,
   "id": "75513d96-e1e1-4b16-97c3-186897122634",
   "metadata": {},
   "outputs": [],
   "source": [
    "# Define H-I excitation cooling rate \n",
    "def H_cool_excite (T): \n",
    "    val = 7.5e-19*(1 + (T/1e+5)**(1/2) )**(-1) * np.exp(-118348/T)\n",
    "    return val\n",
    "\n",
    "# Define H-I ionization cooling rate\n",
    "def H_cool_ionize (T): \n",
    "    val = 1.27e-21*T**(1/2)*( 1 + (T/1e+5)**(1/2) )**(-1) * np.exp(-157809.1/T)\n",
    "    return val \n",
    "\n",
    "# Define H-I Recombination Cooling rate\n",
    "def H_cool_recomb (T): \n",
    "    val = 8.7e-27"
   ]
  },
  {
   "cell_type": "code",
   "execution_count": 37,
   "id": "4ce0670a-c724-4f73-84e2-e1b3fa4027e2",
   "metadata": {},
   "outputs": [
    {
     "ename": "NameError",
     "evalue": "name 'H_cool_excite' is not defined",
     "output_type": "error",
     "traceback": [
      "\u001b[0;31m---------------------------------------------------------------------------\u001b[0m",
      "\u001b[0;31mNameError\u001b[0m                                 Traceback (most recent call last)",
      "Cell \u001b[0;32mIn[37], line 6\u001b[0m\n\u001b[1;32m      4\u001b[0m plt\u001b[38;5;241m.\u001b[39mfigure()\n\u001b[1;32m      5\u001b[0m plt\u001b[38;5;241m.\u001b[39mloglog()\n\u001b[0;32m----> 6\u001b[0m plt\u001b[38;5;241m.\u001b[39mplot(temp_list, \u001b[43mH_cool_excite\u001b[49m(temp_list) )\n\u001b[1;32m      7\u001b[0m plt\u001b[38;5;241m.\u001b[39mplot(temp_list, H_cool_ionize(temp_list))\n\u001b[1;32m      9\u001b[0m plt\u001b[38;5;241m.\u001b[39mylim(\u001b[38;5;241m1e-28\u001b[39m,\u001b[38;5;241m1e-20\u001b[39m)\n",
      "\u001b[0;31mNameError\u001b[0m: name 'H_cool_excite' is not defined"
     ]
    },
    {
     "data": {
      "image/png": "[encoded data removed]",
      "text/plain": [
       "<Figure size 640x480 with 1 Axes>"
      ]
     },
     "metadata": {},
     "output_type": "display_data"
    }
   ],
   "source": [
    "# Plot rate \n",
    "temp_list = 10**np.linspace(3,5,50)\n",
    "\n",
    "plt.figure()\n",
    "plt.loglog()\n",
    "plt.plot(temp_list, H_cool_excite(temp_list) )\n",
    "plt.plot(temp_list, H_cool_ionize(temp_list))\n",
    "\n",
    "plt.ylim(1e-28,1e-20)\n",
    "\n",
    "plt.grid()"
   ]
  },
  {
   "cell_type": "code",
   "execution_count": null,
   "id": "298e24f0-c10f-4667-96d6-0f5801fcdabc",
   "metadata": {},
   "outputs": [],
   "source": [
    "import numpy as np\n",
    "import matplotlib.pyplot as plt\n",
    "\n",
    "# Define different-sized 1D arrays\n",
    "x = np.linspace(-2, 2, 4)  # 4 points from -2 to 2\n",
    "y = np.linspace(-3, 3, 6)  # 6 points from -3 to 3\n",
    "\n",
    "# Create the meshgrid\n",
    "X, Y = np.meshgrid(x, y, indexing='ij')  # Use 'ij' for non-square grids\n",
    "\n",
    "# Compute a function over the grid\n",
    "Z = np.exp(-X**2 - Y**2)  # A Gaussian-like function\n",
    "\n",
    "# Print the meshgrid to verify\n",
    "print(\"X Grid:\\n\", X)\n",
    "print(\"Y Grid:\\n\", Y)"
   ]
  },
  {
   "cell_type": "code",
   "execution_count": 38,
   "id": "e6740cff-394b-48b8-bfe1-994e10c39af4",
   "metadata": {},
   "outputs": [],
   "source": [
    "# Define t_ff \n",
    "\n",
    "def t_ff (n): \n",
    "    val = 3 * np.pi / ( 32 * phys.G * 1.22 *phys.mp * n)\n",
    "    return val**(1/2)"
   ]
  },
  {
   "cell_type": "code",
   "execution_count": 39,
   "id": "c9fc50d0-4ddf-4ee3-9ea8-88d46a0fa866",
   "metadata": {},
   "outputs": [
    {
     "data": {
      "text/plain": [
       "[<matplotlib.lines.Line2D at 0x132de3890>]"
      ]
     },
     "execution_count": 39,
     "metadata": {},
     "output_type": "execute_result"
    },
    {
     "data": {
      "image/png": "[encoded data removed]",
      "text/plain": [
       "<Figure size 640x480 with 1 Axes>"
      ]
     },
     "metadata": {},
     "output_type": "display_data"
    }
   ],
   "source": [
    "# Plot Free fall time scale \n",
    "plt.figure()\n",
    "plt.loglog()\n",
    "\n",
    "plt.plot( 10**np.linspace(-1,7), t_ff(10**np.linspace(-1,7))/phys.yrs_to_sec/1e+6 )"
   ]
  },
  {
   "cell_type": "code",
   "execution_count": 40,
   "id": "19715053-3b40-484f-975a-c95e1af5cf78",
   "metadata": {},
   "outputs": [
    {
     "data": {
      "text/plain": [
       "6.674e-08"
      ]
     },
     "execution_count": 40,
     "metadata": {},
     "output_type": "execute_result"
    }
   ],
   "source": [
    "phys.G"
   ]
  },
  {
   "cell_type": "code",
   "execution_count": 41,
   "id": "6c6d9417-1188-4346-944d-12cda41fc786",
   "metadata": {},
   "outputs": [
    {
     "data": {
      "text/plain": [
       "1.67262171e-24"
      ]
     },
     "execution_count": 41,
     "metadata": {},
     "output_type": "execute_result"
    }
   ],
   "source": [
    "phys.mp"
   ]
  },
  {
   "cell_type": "code",
   "execution_count": 42,
   "id": "cc93c734-1502-4b09-a048-5d84cd117ef2",
   "metadata": {},
   "outputs": [
    {
     "name": "stdout",
     "output_type": "stream",
     "text": [
      "8.18e-08\n"
     ]
    }
   ],
   "source": [
    "print(f'{phys.kB * 8000 *phys.eV_to_ergs / lambda_LTE(8000) / t_ff(1e+4):.2e}' )"
   ]
  },
  {
   "cell_type": "code",
   "execution_count": 43,
   "id": "a9c21530-9907-40f5-b3ba-e5b28b99470f",
   "metadata": {},
   "outputs": [
    {
     "data": {
      "text/plain": [
       "2.869953492449156e-11"
      ]
     },
     "execution_count": 43,
     "metadata": {},
     "output_type": "execute_result"
    }
   ],
   "source": [
    "phys.C_Hminus (1e+4) *1e-7 *1e+4 /1e-7"
   ]
  },
  {
   "cell_type": "code",
   "execution_count": 44,
   "id": "eb657e89-98f1-4087-8e58-284be57d6972",
   "metadata": {},
   "outputs": [],
   "source": [
    "def lambda_H_cool(xe, nH, T): \n",
    "    val = 7.5e-19*(1 + (T/1e+5)**(1/2))**(-1) * np.exp(-118348/T)\n",
    "    return val * xe * nH**2"
   ]
  },
  {
   "cell_type": "code",
   "execution_count": 45,
   "id": "b248293d-047a-4ec7-aefd-1ee42bdbc371",
   "metadata": {},
   "outputs": [
    {
     "data": {
      "text/plain": [
       "np.float64(5.2863005432995976e-20)"
      ]
     },
     "execution_count": 45,
     "metadata": {},
     "output_type": "execute_result"
    }
   ],
   "source": [
    "lambda_H_cool (2e-4, 8000, 1e+4)"
   ]
  },
  {
   "cell_type": "code",
   "execution_count": 46,
   "id": "546634c2-0db3-4c6c-a2b6-9f4073f5839f",
   "metadata": {},
   "outputs": [
    {
     "data": {
      "text/plain": [
       "np.float64(2.083658161266644e-23)"
      ]
     },
     "execution_count": 46,
     "metadata": {},
     "output_type": "execute_result"
    }
   ],
   "source": [
    "lambda_H2_cool (1e+4, 8000) * 1e+4 * 6e-6"
   ]
  },
  {
   "cell_type": "code",
   "execution_count": 47,
   "id": "ad5d7035-847b-42ff-a644-9283a9d09741",
   "metadata": {},
   "outputs": [
    {
     "data": {
      "text/plain": [
       "1.6892167802952116e+19"
      ]
     },
     "execution_count": 47,
     "metadata": {},
     "output_type": "execute_result"
    }
   ],
   "source": [
    "6e-6 * phys.Rvir(10,3e+7) * 1e+4 * 0.1 * phys.pc_to_cm"
   ]
  },
  {
   "cell_type": "code",
   "execution_count": 48,
   "id": "25d89731-973b-403c-a7e6-9f47bf83c1bd",
   "metadata": {},
   "outputs": [
    {
     "ename": "SyntaxError",
     "evalue": "invalid syntax (2281660178.py, line 1)",
     "output_type": "error",
     "traceback": [
      "\u001b[0;36m  Cell \u001b[0;32mIn[48], line 1\u001b[0;36m\u001b[0m\n\u001b[0;31m    1e-4* phys.Rvir(10,3e+7) *\u001b[0m\n\u001b[0m                               ^\u001b[0m\n\u001b[0;31mSyntaxError\u001b[0m\u001b[0;31m:\u001b[0m invalid syntax\n"
     ]
    }
   ],
   "source": [
    "1e-4* phys.Rvir(10,3e+7) * "
   ]
  },
  {
   "cell_type": "code",
   "execution_count": 49,
   "id": "a37386d1-1945-46a6-89a1-7bdd6ecdf884",
   "metadata": {},
   "outputs": [],
   "source": [
    "def func(xH2): \n",
    "    return xH2 * 1e+4 * lambda_LTE(8e+3) - lambda_H_cool(2e-4, 1e+4, 8e+3)"
   ]
  },
  {
   "cell_type": "code",
   "execution_count": 50,
   "id": "f913f911-36ec-41a3-a60a-a00e59867f76",
   "metadata": {},
   "outputs": [
    {
     "data": {
      "text/plain": [
       "array([4.78653373e-07])"
      ]
     },
     "execution_count": 50,
     "metadata": {},
     "output_type": "execute_result"
    }
   ],
   "source": [
    "fsolve(func, 1e-6)"
   ]
  },
  {
   "cell_type": "code",
   "execution_count": 51,
   "id": "d32f2b63-4d64-4585-bd8b-f5c08be90ccf",
   "metadata": {},
   "outputs": [
    {
     "data": {
      "text/plain": [
       "2.877442059813532e-09"
      ]
     },
     "execution_count": 51,
     "metadata": {},
     "output_type": "execute_result"
    }
   ],
   "source": [
    "phys.C_Hminus(8e+3) * 1e-4 * 1e+4 / 1e-6"
   ]
  },
  {
   "cell_type": "code",
   "execution_count": 61,
   "id": "844b3eb0-4374-403c-a0f4-14a18ad4d0ec",
   "metadata": {},
   "outputs": [
    {
     "data": {
      "text/plain": [
       "np.float64(4.365056685596079e-11)"
      ]
     },
     "execution_count": 61,
     "metadata": {},
     "output_type": "execute_result"
    }
   ],
   "source": [
    "np.exp( - 43900 /1e+4) * 3.52e-9 * 1 "
   ]
  },
  {
   "cell_type": "code",
   "execution_count": 62,
   "id": "33f7183b-d0f6-4b24-9499-eb614f6ad35c",
   "metadata": {},
   "outputs": [
    {
     "data": {
      "text/plain": [
       "np.float64(4.246415175615754e-13)"
      ]
     },
     "execution_count": 62,
     "metadata": {},
     "output_type": "execute_result"
    }
   ],
   "source": [
    "6.67e-12 * (1e+4)**(1/2) * np.exp(-  (1 + 63593.0/1e+4))"
   ]
  },
  {
   "cell_type": "code",
   "execution_count": null,
   "id": "448aa2c2-8910-44e1-ab14-1e31e645a15a",
   "metadata": {},
   "outputs": [],
   "source": []
  }
 ],
 "metadata": {
  "kernelspec": {
   "display_name": "Python 3 (ipykernel)",
   "language": "python",
   "name": "python3"
  },
  "language_info": {
   "codemirror_mode": {
    "name": "ipython",
    "version": 3
   },
   "file_extension": ".py",
   "mimetype": "text/x-python",
   "name": "python",
   "nbconvert_exporter": "python",
   "pygments_lexer": "ipython3",
   "version": "3.12.7"
  }
 },
 "nbformat": 4,
 "nbformat_minor": 5
}
