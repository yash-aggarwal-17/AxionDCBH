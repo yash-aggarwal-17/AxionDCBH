{
 "cells": [
  {
   "cell_type": "markdown",
   "id": "6df5f77a-72c5-4550-9366-6f18782b7104",
   "metadata": {},
   "source": [
    "# Definitions"
   ]
  },
  {
   "cell_type": "code",
   "execution_count": 2,
   "id": "bf6df402-4cc1-4dea-b24f-9e78ed0fbd89",
   "metadata": {},
   "outputs": [
    {
     "name": "stdout",
     "output_type": "stream",
     "text": [
      "Note: you may need to restart the kernel to use updated packages.\n"
     ]
    }
   ],
   "source": [
    "# Imports for JupyterLite\n",
    "%pip install -q ipywidgets"
   ]
  },
  {
   "cell_type": "code",
   "execution_count": 17,
   "id": "1da21e94-cb75-4fc5-9b6c-ccf574caaecc",
   "metadata": {},
   "outputs": [],
   "source": [
    "import numpy as np\n",
    "import scipy\n",
    "import matplotlib.pyplot as plt"
   ]
  },
  {
   "cell_type": "code",
   "execution_count": 18,
   "id": "53f690c8-05ab-43cc-8277-ed0a849b4c3a",
   "metadata": {},
   "outputs": [],
   "source": [
    "plt.rcParams.update({\n",
    "    \"text.usetex\": True,\n",
    "    \"font.family\": \"arial\",\n",
    "    \"font.serif\": [\"Computer Modern Roman\"],\n",
    "    'font.size': 14\n",
    "})"
   ]
  },
  {
   "cell_type": "markdown",
   "id": "2fbf06cc-adf8-4a0e-bb30-1c3fae8cb274",
   "metadata": {},
   "source": [
    "### Define Constants"
   ]
  },
  {
   "cell_type": "code",
   "execution_count": 19,
   "id": "1f794bdc-e92d-47cc-85de-17fe1bafe505",
   "metadata": {},
   "outputs": [],
   "source": [
    "h_planck = 4.135667696e-15 # eV s\n",
    "cs = 29979245800 # cm /s \n",
    "rydberg_energy = 13.6056923 # eV\n",
    "lyAlpha_energy = 10.198810993784 # eV\n",
    "kB = 8.617343e-5 # eV / K\n",
    "G = 6.674e-8 # dyne / cm^2 / g^2\n",
    "pi = 3.14159265\n",
    "e = 2.718281828\n",
    "\n",
    "### Define masses\n",
    "\n",
    "mp = 1.67262171e-24 # grams\n",
    "mp_eV = 938.272029e+6 # eV\n",
    "\n",
    "me = 9.109383632e-28 # grams\n",
    "me_eV = 510998.9461 # eV/c^2\n"
   ]
  },
  {
   "cell_type": "markdown",
   "id": "f59529e2-aaa0-4344-baa5-d86ffabbd68a",
   "metadata": {},
   "source": [
    "### Define conversion factors"
   ]
  },
  {
   "cell_type": "code",
   "execution_count": 20,
   "id": "69e057fc-6884-467f-939b-b2a9649d08be",
   "metadata": {},
   "outputs": [],
   "source": [
    "pc_to_cm = 3.0856776e+18 # cm\n",
    "msol_to_grams = 1.9891e+33 # grams\n",
    "eV_to_ergs = 1.60217653e-12 # ergs\n",
    "GeV_To_InvSec = 1.52e+24 # sec"
   ]
  },
  {
   "cell_type": "markdown",
   "id": "1ee187db-f1c0-47fd-9415-dd70d005e954",
   "metadata": {},
   "source": [
    "### Define Cosmology"
   ]
  },
  {
   "cell_type": "code",
   "execution_count": 21,
   "id": "4aa5017c-732d-45da-8a58-3b88f9b95e0a",
   "metadata": {},
   "outputs": [],
   "source": [
    "# In acccordance to Planck 2018\n",
    "h=0.674\n",
    "H0=67.4/(pc_to_cm*10)\n",
    "Omega_c = 0.12 / h**2\n",
    "Omega_b = 0.0224 / h**2\n",
    "Omega_m = Omega_c + Omega_b\n",
    "Omega_lambda = 1 - Omega_m\n",
    "Yp = 0.245\n",
    "\n",
    "# Critical density\n",
    "RhoCrit = 3*H0**2/(8*pi*G) * cs**2/eV_to_ergs # eV cm^-3\n",
    "\n",
    "# Define Critical overdensity\n",
    "Delta_c =200\n",
    "\n",
    "# Define Hydrogen number density\n",
    "nH0 = RhoCrit*Omega_b*(1 - Yp)/mp_eV\n",
    "\n",
    "# Define Helium number density\n",
    "nHe0 = RhoCrit*Omega_b*(Yp)/mp_eV\n",
    "\n",
    "# Define total atom density\n",
    "nA0 = nH0 + nHe0\n"
   ]
  },
  {
   "cell_type": "code",
   "execution_count": 22,
   "id": "22bfc9f2-68c1-4af3-9a8c-3405c2b1b776",
   "metadata": {},
   "outputs": [],
   "source": [
    "## Define Hubble function\n",
    "\n",
    "def Hubble(z):\n",
    "    return H0*(Omega_lambda + Omega_m*(1+z)**3)**(1/2)"
   ]
  },
  {
   "cell_type": "code",
   "execution_count": 23,
   "id": "456868fa-8fb1-4e93-a372-8350313f7804",
   "metadata": {},
   "outputs": [],
   "source": [
    "# Define IGM, CMB, and virial temperatures\n",
    "\n",
    "def T_IGM(z):\n",
    "    return 1/40 * (1+z)**2\n",
    "\n",
    "def T_CMB(z):\n",
    "    return 2.725*(1+z)\n",
    "\n",
    "def Tvir(z, mhalo):\n",
    "\n",
    "    fac = (\n",
    "            0.75 * 1.98e+4 * (1.22/0.6) *\n",
    "            (Omega_m / Omega_t_m(z) * Delta_c / (18*pi**2) )**(1/3) *\n",
    "            (mhalo/ 10**8)**(2/3) *\n",
    "            (1+z)/10 * h**(2/3)\n",
    "          )\n",
    "    return fac\n"
   ]
  },
  {
   "cell_type": "code",
   "execution_count": 24,
   "id": "50682d35-b3c5-4c6b-9326-e1abee32d5d3",
   "metadata": {},
   "outputs": [
    {
     "data": {
      "image/png": "[encoded data removed]",
      "text/plain": [
       "<Figure size 640x480 with 1 Axes>"
      ]
     },
     "metadata": {},
     "output_type": "display_data"
    }
   ],
   "source": [
    "mhalo_list = 10**np.arange(1,9)\n",
    "\n",
    "plt.figure()\n",
    "plt.plot(mhalo_list, Tvir(20, mhalo_list))\n",
    "\n",
    "plt.xscale('log')\n",
    "plt.yscale('log')\n",
    "plt.grid()"
   ]
  },
  {
   "cell_type": "code",
   "execution_count": 25,
   "id": "56fc7c6d-c88c-4b3e-bf41-c43f97bab424",
   "metadata": {},
   "outputs": [],
   "source": [
    "# Define cosmological density parameters at time t\n",
    "\n",
    "def Omega_t_m(z):\n",
    "    return Omega_m*(1+z)**3 / (Hubble(z)/H0)**2\n",
    "\n",
    "def Omega_t_lambda(z):\n",
    "    return Omega_lambda / (Hubble(z)/H0)**2\n",
    "\n",
    "\n",
    "# Define growth factor\n",
    "\n",
    "def growth_fac(z):\n",
    "    \n",
    "    # Define the constant denominator\n",
    "    const = Omega_m*( Omega_m**(4/7) - Omega_lambda + (1 + Omega_m/2)*(1 + Omega_lambda/70) )**(-1)\n",
    "\n",
    "    func = Omega_t_m(z)*( Omega_t_m(z)**(4/7) - Omega_t_lambda(z) + (1 + Omega_t_m(z)/2)*(1 + Omega_t_lambda(z)/70) )**(-1)\n",
    "\n",
    "    return (func/const/(1+z))"
   ]
  },
  {
   "cell_type": "code",
   "execution_count": 26,
   "id": "db783f47-e9c0-49c2-ae6b-741fce21253e",
   "metadata": {},
   "outputs": [
    {
     "data": {
      "image/png": "[encoded data removed]",
      "text/plain": [
       "<Figure size 640x480 with 1 Axes>"
      ]
     },
     "metadata": {},
     "output_type": "display_data"
    }
   ],
   "source": [
    "# Plot growth factor\n",
    "z_list=np.arange(0.1,101)\n",
    "\n",
    "plt.figure()\n",
    "plt.plot(z_list, growth_fac(z_list))\n",
    "\n",
    "plt.xscale('log')\n",
    "plt.yscale('log')\n",
    "plt.grid()"
   ]
  },
  {
   "cell_type": "markdown",
   "id": "c5c3cdbc-363f-49ee-bc96-75ca0987b483",
   "metadata": {},
   "source": [
    "### Define Rate Coefficients"
   ]
  },
  {
   "cell_type": "code",
   "execution_count": 27,
   "id": "2b231c1b-3ca8-4841-8c00-b4834b4e3d75",
   "metadata": {},
   "outputs": [],
   "source": [
    "# Collisional rate coefficients. units cm^3 / s\n",
    "\n",
    "# case B Hydrogen Recombination\n",
    "def case_B(T):\n",
    "    return 2.54e-13*(T/10**4)**(-0.8163)\n",
    "    \n",
    "# Electron attachment to H. Taken from Hirata 2006. Valid for T<=10^(4) K\n",
    "def C_Hminus(T):\n",
    "    return 3e-16*(T/300)**0.95 * e**(-T/9320)\n",
    "\n",
    "# H2 formation via H minus\n",
    "def C_H2(T):\n",
    "    return 1.5e-9 * (T/300)**(-0.1)\n"
   ]
  },
  {
   "cell_type": "code",
   "execution_count": 28,
   "id": "24e36a07-a3fc-4b27-8689-3ffa1c8bfcf0",
   "metadata": {},
   "outputs": [
    {
     "data": {
      "image/png": "[encoded data removed]",
      "text/plain": [
       "<Figure size 640x480 with 1 Axes>"
      ]
     },
     "metadata": {},
     "output_type": "display_data"
    }
   ],
   "source": [
    "# Plot Rate Coefficients\n",
    "\n",
    "temp_list = 10**np.linspace(1,4.2)\n",
    "\n",
    "plt.plot(temp_list, case_B(temp_list), label=r'$C_B$')\n",
    "plt.plot(temp_list, C_Hminus(temp_list), label=r'$C_{H^-}$')\n",
    "plt.plot(temp_list, C_H2(temp_list), label=r'$C_{H_2}$')\n",
    "\n",
    "plt.loglog()\n",
    "plt.xlabel(r\"Temperature (K)\", fontsize=14)\n",
    "plt.ylabel(r\"Rate coefficient ($cm^3 s^{-1}$)\", fontsize=14)\n",
    "plt.legend()\n",
    "plt.show()"
   ]
  },
  {
   "cell_type": "markdown",
   "id": "c9fbde20-8114-47f2-b133-261cd1e4f2e5",
   "metadata": {},
   "source": [
    "### Cross Sections"
   ]
  },
  {
   "cell_type": "code",
   "execution_count": 15,
   "id": "8f7d9aa8-c208-418b-a02c-44ee65ac4116",
   "metadata": {},
   "outputs": [],
   "source": [
    "def sigma_Hm(en):\n",
    "    en = np.asanyarray(en)\n",
    "\n",
    "    result = np.zeros_like(en, dtype=float)\n",
    "\n",
    "    val = 7.928e+5 * h_planck**1.5\n",
    "    \n",
    "    mask = en>=0.755\n",
    "    result[mask] = val*(en[mask] - 0.755)**1.5 / en[mask]**3\n",
    "    \n",
    "    return result"
   ]
  },
  {
   "cell_type": "code",
   "execution_count": 16,
   "id": "ae4bc372-9307-4016-be45-1ee8b5eea620",
   "metadata": {},
   "outputs": [
    {
     "data": {
      "text/plain": [
       "array([0.00000000e+00, 0.00000000e+00, 2.55700290e-17, 3.66139121e-17,\n",
       "       2.62689582e-17, 1.92585760e-17, 1.47532813e-17])"
      ]
     },
     "execution_count": 16,
     "metadata": {},
     "output_type": "execute_result"
    }
   ],
   "source": [
    "sigma_Hm(np.array([0,0.5,1,2,3,4,5]))"
   ]
  },
  {
   "cell_type": "code",
   "execution_count": 202,
   "id": "59352e85-17dd-4acc-985e-5a3631f67f05",
   "metadata": {},
   "outputs": [
    {
     "data": {
      "text/plain": [
       "array(3.66346957e-17)"
      ]
     },
     "execution_count": 202,
     "metadata": {},
     "output_type": "execute_result"
    }
   ],
   "source": [
    "sigma_Hm(1.21356)"
   ]
  },
  {
   "cell_type": "code",
   "execution_count": 29,
   "id": "2f82b414-5e84-44fa-9168-2c26fb38300c",
   "metadata": {},
   "outputs": [],
   "source": [
    "def Rvir(z, mhalo): \n",
    "    val = 323 * (mhalo/(1e+6))**(1/3) * ((1+z)/10)**(-1)\n",
    "    return val"
   ]
  },
  {
   "cell_type": "code",
   "execution_count": 31,
   "id": "9c23771c-d701-4453-baeb-2b7eade7d93a",
   "metadata": {},
   "outputs": [
    {
     "data": {
      "text/plain": [
       "153.8095238095238"
      ]
     },
     "execution_count": 31,
     "metadata": {},
     "output_type": "execute_result"
    }
   ],
   "source": [
    "Rvir(20,1e+6)"
   ]
  },
  {
   "cell_type": "code",
   "execution_count": null,
   "id": "94bf4641-1d1b-4284-8da3-79a04b4e8a6f",
   "metadata": {},
   "outputs": [],
   "source": []
  }
 ],
 "metadata": {
  "kernelspec": {
   "display_name": "Python 3 (ipykernel)",
   "language": "python",
   "name": "python3"
  },
  "language_info": {
   "codemirror_mode": {
    "name": "ipython",
    "version": 3
   },
   "file_extension": ".py",
   "mimetype": "text/x-python",
   "name": "python",
   "nbconvert_exporter": "python",
   "pygments_lexer": "ipython3",
   "version": "3.12.7"
  }
 },
 "nbformat": 4,
 "nbformat_minor": 5
}
